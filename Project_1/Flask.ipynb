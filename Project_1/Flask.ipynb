{
 "cells": [
  {
   "cell_type": "code",
   "execution_count": null,
   "id": "2a841459",
   "metadata": {},
   "outputs": [],
   "source": [
    "API  >> Application programming interface"
   ]
  },
  {
   "cell_type": "markdown",
   "id": "7289da71",
   "metadata": {},
   "source": [
    "## Web Frameworks"
   ]
  },
  {
   "cell_type": "code",
   "execution_count": null,
   "id": "1363f320",
   "metadata": {},
   "outputs": [],
   "source": [
    "API can be written using \n",
    "1) Flask\n",
    "2) DJango\n",
    "3) gRPC   (Google rempte procedure call)\n",
    "4) Fast API"
   ]
  },
  {
   "cell_type": "markdown",
   "id": "15886beb",
   "metadata": {},
   "source": [
    "## Flask"
   ]
  },
  {
   "cell_type": "code",
   "execution_count": null,
   "id": "6dfa8f6d",
   "metadata": {},
   "outputs": [],
   "source": [
    "Flask >> Python web Framework\n",
    "\n",
    "run.py\n",
    "interface.py\n",
    "main.py\n",
    "views.py\n",
    "wsgi.py   # Web Server Gateway Interface\n",
    "\n",
    "from flask import Flask,jsonify,render_template,request"
   ]
  },
  {
   "cell_type": "code",
   "execution_count": null,
   "id": "f40c7075",
   "metadata": {},
   "outputs": [],
   "source": [
    "pip install flask\n",
    "conda install flask\n"
   ]
  },
  {
   "cell_type": "markdown",
   "id": "7188e307",
   "metadata": {},
   "source": [
    "## Cloud Platforms"
   ]
  },
  {
   "cell_type": "code",
   "execution_count": null,
   "id": "f994c66d",
   "metadata": {},
   "outputs": [],
   "source": [
    "1) AWS\n",
    "2) GCP \n",
    "3) Azure"
   ]
  }
 ],
 "metadata": {
  "kernelspec": {
   "display_name": "base",
   "language": "python",
   "name": "python3"
  },
  "language_info": {
   "codemirror_mode": {
    "name": "ipython",
    "version": 3
   },
   "file_extension": ".py",
   "mimetype": "text/x-python",
   "name": "python",
   "nbconvert_exporter": "python",
   "pygments_lexer": "ipython3",
   "version": "3.9.7"
  },
  "vscode": {
   "interpreter": {
    "hash": "2043299c89c8cd0b4d1a6f5cf4529bd58e6a4e0fe3181a25e0d328c821cdc5c5"
   }
  }
 },
 "nbformat": 4,
 "nbformat_minor": 5
}
